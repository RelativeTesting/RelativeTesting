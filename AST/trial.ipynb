{
 "cells": [
  {
   "cell_type": "code",
   "execution_count": null,
   "metadata": {},
   "outputs": [],
   "source": [
    "import ast\n",
    "import astor\n",
    "class InputVisitor(ast.NodeVisitor):\n",
    "    def __init__(self):\n",
    "        self.user_inputs = {}\n",
    "\n",
    "    def visit_Assign(self, node):\n",
    "        for child in ast.walk(node.value):\n",
    "            if isinstance(child, ast.Call):\n",
    "                if isinstance(child.func, ast.Name):\n",
    "                    if child.func.id == 'input':\n",
    "                        for target in node.targets:\n",
    "                            if isinstance(target, ast.Name):\n",
    "                                print(target.id)\n",
    "                                if(str(target.id)  not in self.user_inputs):\n",
    "                                   self.user_inputs[target.id]=str\n",
    "                    elif child.func.id == 'int':\n",
    "                        for target in node.targets:\n",
    "                            if isinstance(target, ast.Name):\n",
    "                                self.user_inputs[target.id] = int\n",
    "                                break\n",
    "                    elif child.func.id == 'float':\n",
    "                        for target in node.targets:\n",
    "                            if isinstance(target, ast.Name):\n",
    "                                self.user_inputs[target.id] = float\n",
    "                                break\n",
    "        self.generic_visit(node)\n",
    "\n",
    "\n",
    "def detect_user_inputs(code_file):\n",
    "    with open(code_file, 'r') as f:\n",
    "        code = f.read()\n",
    "    tree = ast.parse(code)\n",
    "    visitor = InputVisitor()\n",
    "    visitor.visit(tree)\n",
    "    return visitor.user_inputs\n"
   ]
  },
  {
   "cell_type": "code",
   "execution_count": null,
   "metadata": {},
   "outputs": [],
   "source": [
    "import ast\n",
    "import astor\n",
    "\n",
    "class InputVisitor(ast.NodeTransformer):\n",
    "    def __init__(self):\n",
    "        self.user_inputs = {}\n",
    "        self.param_names = [\"param\" + str(i) for i in range(1, 11)] # Değişken isimleri\n",
    "\n",
    "    def visit_Call(self, node):\n",
    "        if isinstance(node.func, ast.Name) and node.func.id == \"input\":\n",
    "            # input fonksiyonunu değiştir\n",
    "            new_name = self.param_names.pop(0)\n",
    "            self.user_inputs[new_name] = str\n",
    "            new_node=ast.Name(id=new_name, ctx=ast.Load())\n",
    "            return ast.copy_location(new_node, node)\n",
    "        else:\n",
    "            return self.generic_visit(node)\n",
    "\n",
    "    \n",
    "\n",
    "\n",
    "def detect_user_inputs(code_file):\n",
    "    with open(code_file, 'r') as f:\n",
    "        code = f.read()\n",
    "    tree = ast.parse(code)\n",
    "    visitor = InputVisitor()\n",
    "    visitor.visit(tree)\n",
    "    ast.fix_missing_locations(tree)\n",
    "    new_code = astor.to_source(tree)\n",
    "    with open('final_file1.py', 'w') as f:\n",
    "        f.write(new_code)\n",
    "    return visitor.user_inputs\n"
   ]
  },
  {
   "cell_type": "code",
   "execution_count": null,
   "metadata": {},
   "outputs": [],
   "source": [
    "detect_user_inputs(\"code_2.py\")"
   ]
  }
 ],
 "metadata": {
  "language_info": {
   "name": "python"
  },
  "orig_nbformat": 4
 },
 "nbformat": 4,
 "nbformat_minor": 2
}
