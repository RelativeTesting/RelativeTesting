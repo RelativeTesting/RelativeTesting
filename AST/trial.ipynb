{
 "cells": [
  {
   "cell_type": "code",
   "execution_count": 66,
   "metadata": {},
   "outputs": [],
   "source": [
    "import ast\n",
    "import astor\n",
    "class InputVisitor(ast.NodeVisitor):\n",
    "    def __init__(self):\n",
    "        self.user_inputs = {}\n",
    "\n",
    "    def visit_Assign(self, node):\n",
    "        for child in ast.walk(node.value):\n",
    "            if isinstance(child, ast.Call):\n",
    "                if isinstance(child.func, ast.Name):\n",
    "                    if child.func.id == 'input':\n",
    "                        for target in node.targets:\n",
    "                            if isinstance(target, ast.Name):\n",
    "                                print(target.id)\n",
    "                                if(str(target.id)  not in self.user_inputs):\n",
    "                                   self.user_inputs[target.id]=str\n",
    "                    elif child.func.id == 'int':\n",
    "                        for target in node.targets:\n",
    "                            if isinstance(target, ast.Name):\n",
    "                                self.user_inputs[target.id] = int\n",
    "                                break\n",
    "                    elif child.func.id == 'float':\n",
    "                        for target in node.targets:\n",
    "                            if isinstance(target, ast.Name):\n",
    "                                self.user_inputs[target.id] = float\n",
    "                                break\n",
    "        self.generic_visit(node)\n",
    "\n",
    "\n",
    "def type_user_inputs(code_file):\n",
    "    with open(code_file, 'r') as f:\n",
    "        code = f.read()\n",
    "    tree = ast.parse(code)\n",
    "    visitor = InputVisitor()\n",
    "    visitor.visit(tree)\n",
    "    return visitor.user_inputs\n"
   ]
  },
  {
   "cell_type": "code",
   "execution_count": 67,
   "metadata": {},
   "outputs": [
    {
     "name": "stdout",
     "output_type": "stream",
     "text": [
      "knight_hor\n",
      "knight_column\n",
      "bishop_hor\n",
      "bishop_column\n"
     ]
    },
    {
     "data": {
      "text/plain": [
       "{'knight_hor': str,\n",
       " 'knight_column': int,\n",
       " 'bishop_hor': str,\n",
       " 'bishop_column': int}"
      ]
     },
     "execution_count": 67,
     "metadata": {},
     "output_type": "execute_result"
    }
   ],
   "source": [
    "type_user_inputs(\"code_2.py\")"
   ]
  },
  {
   "cell_type": "code",
   "execution_count": 63,
   "metadata": {},
   "outputs": [],
   "source": [
    "import ast\n",
    "import astor\n",
    "\n",
    "class InputVisitor(ast.NodeTransformer):\n",
    "    def __init__(self):\n",
    "        self.user_inputs = {}\n",
    "        self.param_names = [\"param\" + str(i) for i in range(1, 11)] # Değişken isimleri\n",
    "\n",
    "    def visit_Call(self, node):\n",
    "        if isinstance(node.func, ast.Name) and node.func.id == \"input\":\n",
    "            # input fonksiyonunu değiştir\n",
    "            new_name = self.param_names.pop(0)\n",
    "            self.user_inputs[new_name] = str\n",
    "            new_node=ast.Name(id=new_name, ctx=ast.Load())\n",
    "            return ast.copy_location(new_node, node)\n",
    "        else:\n",
    "            return self.generic_visit(node)\n",
    "\n",
    "\n",
    "def detect_user_inputs(code_file):\n",
    "    with open(code_file, 'r') as f:\n",
    "        code = f.read()\n",
    "    tree = ast.parse(code)\n",
    "    visitor = InputVisitor()\n",
    "    visitor.visit(tree)\n",
    "    new_tree=ast.fix_missing_locations(tree)\n",
    "    # func_def_node = ast.parse(\"def my_function(\" + \", \".join(visitor.user_inputs.keys()) + \"):\\n    \" + astor.to_source(new_tree).strip())\n",
    "    # ast.copy_location(func_def_node,new_tree)\n",
    "    args_arr = [ast.arg(arg=name, annotation=None) for name in visitor.user_inputs.keys()]\n",
    "    function_node = ast.FunctionDef(\n",
    "    name=\"my_function\",\n",
    "    args=ast.arguments(\n",
    "        args=[ast.arg(arg=name, annotation=\"str\") for name in visitor.user_inputs.keys()],\n",
    "        vararg=None,\n",
    "        kwonlyargs=[],\n",
    "        kw_defaults=[],\n",
    "        kwarg=None,\n",
    "        defaults=[]\n",
    "    ),\n",
    "    body=new_tree.body,\n",
    "    decorator_list=[],\n",
    "    returns=None\n",
    ")\n",
    "    with open(\"final_file1.py\", \"w\") as f:\n",
    "        f.write(astor.to_source(function_node))\n",
    "    return visitor.user_inputs\n"
   ]
  },
  {
   "cell_type": "code",
   "execution_count": 64,
   "metadata": {},
   "outputs": [
    {
     "data": {
      "text/plain": [
       "{'param1': str, 'param2': str, 'param3': str, 'param4': str}"
      ]
     },
     "execution_count": 64,
     "metadata": {},
     "output_type": "execute_result"
    }
   ],
   "source": [
    "detect_user_inputs(\"code_2.py\")"
   ]
  },
  {
   "cell_type": "code",
   "execution_count": null,
   "metadata": {},
   "outputs": [],
   "source": []
  }
 ],
 "metadata": {
  "kernelspec": {
   "display_name": "Python 3",
   "language": "python",
   "name": "python3"
  },
  "language_info": {
   "codemirror_mode": {
    "name": "ipython",
    "version": 3
   },
   "file_extension": ".py",
   "mimetype": "text/x-python",
   "name": "python",
   "nbconvert_exporter": "python",
   "pygments_lexer": "ipython3",
   "version": "3.11.3"
  },
  "orig_nbformat": 4
 },
 "nbformat": 4,
 "nbformat_minor": 2
}
