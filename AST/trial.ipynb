{
 "cells": [
  {
   "cell_type": "code",
   "execution_count": 2,
   "metadata": {},
   "outputs": [],
   "source": [
    "import ast\n",
    "import astor\n",
    "class InputVisitorDetector(ast.NodeVisitor):\n",
    "    def __init__(self):\n",
    "        self.user_inputs_all = {}\n",
    "\n",
    "    def visit_Assign(self, node):\n",
    "        for child in ast.walk(node.value):\n",
    "            if isinstance(child, ast.Call):\n",
    "                if isinstance(child.func, ast.Name):\n",
    "                    if child.func.id == 'input':\n",
    "                        for target in node.targets:\n",
    "                            if isinstance(target, ast.Name):\n",
    "                                print(target.id)\n",
    "                                if(str(target.id)  not in self.user_inputs_all):\n",
    "                                   self.user_inputs_all[target.id]=\"str\"\n",
    "                    elif child.func.id == 'int':\n",
    "                        for target in node.targets:\n",
    "                            if isinstance(target, ast.Name):\n",
    "                                self.user_inputs_all[target.id] =\"int\"\n",
    "                                break\n",
    "                    elif child.func.id == 'float':\n",
    "                        for target in node.targets:\n",
    "                            if isinstance(target, ast.Name):\n",
    "                                self.user_inputs_all[target.id] = \"float\"\n",
    "                                break\n",
    "        self.generic_visit(node)\n",
    "        \n",
    "class InputVisitor(ast.NodeTransformer):\n",
    "    def __init__(self):\n",
    "        self.user_inputs = {}\n",
    "        #self.param_names = [\"param\" + str(i) for i in range(1, 11)] # Değişken isimleri\n",
    "        self.count=0\n",
    "\n",
    "    def visit_Call(self, node):\n",
    "        if isinstance(node.func, ast.Name) and node.func.id == \"input\":\n",
    "            # input fonksiyonunu değiştir\n",
    "            self.count+=1\n",
    "            new_name = \"param\"+str(self.count)\n",
    "            self.user_inputs[new_name] = str\n",
    "            new_node=ast.Name(id=new_name, ctx=ast.Load())\n",
    "            return ast.copy_location(new_node, node)\n",
    "        else:\n",
    "            return self.generic_visit(node)\n",
    "    \n",
    "import ast\n",
    "\n",
    "class RemoveTypeConversions(ast.NodeTransformer):\n",
    "    def visit_Call(self, node):\n",
    "        if isinstance(node.func, ast.Name) and node.func.id in (\"int\", \"float\", \"str\"):\n",
    "            # int(param), float(param), veya str(param) gibi ifadeleri kaldırma\n",
    "            if isinstance(node.args[0], ast.Name):\n",
    "                param_name = node.args[0].id\n",
    "                return ast.copy_location(ast.Name(id=param_name, ctx=ast.Load()), node)\n",
    "        return self.generic_visit(node)\n",
    "\n",
    "def type_user_inputs(code_file):\n",
    "    with open(code_file, 'r') as f:\n",
    "        code = f.read()\n",
    "    tree = ast.parse(code)\n",
    "    visitor = InputVisitorDetector()\n",
    "    visitor.visit(tree)\n",
    "    return visitor.user_inputs_all\n",
    "\n",
    "def detect_user_inputs(code_file):\n",
    "    with open(code_file, 'r') as f:\n",
    "        code = f.read()\n",
    "    tree = ast.parse(code)\n",
    "    visitor = InputVisitor()\n",
    "    visitor.visit(tree)\n",
    "    new_tree1=ast.fix_missing_locations(tree)\n",
    "    transformer = RemoveTypeConversions()\n",
    "    new_tree = transformer.visit(new_tree1)\n",
    "    new_tree = ast.fix_missing_locations(new_tree)\n",
    "    my_real_inputs=list(type_user_inputs(code_file).values())\n",
    "    print(my_real_inputs)\n",
    "    function_node = ast.FunctionDef(\n",
    "    name=code_file[:-3],\n",
    "    args=ast.arguments(\n",
    "        args=[ast.arg(arg=list(visitor.user_inputs.keys())[i], annotation=None) for i in range(len(visitor.user_inputs.keys()))],\n",
    "        vararg=None,\n",
    "        kwonlyargs=[],\n",
    "        kw_defaults=[],\n",
    "        kwarg=None,\n",
    "        defaults=[]\n",
    "    ),\n",
    "    body=new_tree.body,\n",
    "    decorator_list=[],\n",
    "    returns=None\n",
    ")\n",
    "    with open(\"final_file_\"+code_file, \"w\") as f:\n",
    "        f.write(astor.to_source(function_node))\n",
    "    return visitor.user_inputs\n"
   ]
  },
  {
   "cell_type": "code",
   "execution_count": 21,
   "metadata": {},
   "outputs": [
    {
     "name": "stdout",
     "output_type": "stream",
     "text": [
      "knight_hor\n",
      "knight_column\n",
      "bishop_hor\n",
      "bishop_column\n",
      "['str', 'int', 'str', 'int']\n"
     ]
    },
    {
     "data": {
      "text/plain": [
       "{'param1': str, 'param2': str, 'param3': str, 'param4': str}"
      ]
     },
     "execution_count": 21,
     "metadata": {},
     "output_type": "execute_result"
    }
   ],
   "source": [
    "detect_user_inputs(\"code_2.py\")"
   ]
  },
  {
   "cell_type": "code",
   "execution_count": 3,
   "metadata": {},
   "outputs": [
    {
     "name": "stdout",
     "output_type": "stream",
     "text": [
      "database\n",
      "movement_\n",
      "budget\n",
      "purchases\n",
      "['str', 'str', 'float', 'str', 'float']\n"
     ]
    },
    {
     "data": {
      "text/plain": [
       "{'param1': str, 'param2': str, 'param3': str, 'param4': str}"
      ]
     },
     "execution_count": 3,
     "metadata": {},
     "output_type": "execute_result"
    }
   ],
   "source": [
    "detect_user_inputs(\"code_3.py\")"
   ]
  },
  {
   "cell_type": "code",
   "execution_count": 3,
   "metadata": {},
   "outputs": [],
   "source": [
    "import ast\n",
    "import astor\n",
    "\n",
    "def convert_code_to_function(code):\n",
    "    tree = ast.parse(code)\n",
    "    \n",
    "    new_function = ast.FunctionDef(\n",
    "        name='new_function',  #function name\n",
    "        args=ast.arguments(args=[], defaults=[], kwonlyargs=[], kw_defaults=[]),  # Arguments\n",
    "        body=tree.body,  # Code inside \n",
    "        decorator_list=[]  \n",
    "    )\n",
    "    tree.body = [new_function]\n",
    "    return astor.to_source(new_function)\n"
   ]
  },
  {
   "cell_type": "code",
   "execution_count": null,
   "metadata": {},
   "outputs": [],
   "source": [
    "# Example Python code\n",
    "example_code = '''\n",
    "img_width = int(input(\"Please enter the image width in pixels: \"))\n",
    "img_height = int(input(\"Please enter the image height in pixels: \"))\n",
    "\n",
    "total_bytes = img_width * img_height * color_chnl_byte\n",
    "total_bits = total_bytes * 8\n",
    "\n",
    "modem_transmission_delay = total_bits / modem_bandwidth\n",
    "ethernet_transmission_delay = total_bits / ethernet_bandwidth\n",
    "for i in range(1,4):\n",
    "    x=input (\"Enter the code file name: \")\n",
    "modem_delay_hours = modem_transmission_delay // seconds_in_hours\n",
    "modem_delay_minutes = (modem_transmission_delay - modem_delay_hours*seconds_in_hours) // 60\n",
    "model_delay_seconds = modem_transmission_delay % 60\n",
    "'''\n",
    "\n",
    "function_code = convert_code_to_function(example_code)  # Process the code\n",
    "\n",
    "print(function_code)  # The generated code of the new function"
   ]
  },
  {
   "cell_type": "code",
   "execution_count": 1,
   "metadata": {},
   "outputs": [
    {
     "name": "stdout",
     "output_type": "stream",
     "text": [
      "power\n"
     ]
    }
   ],
   "source": [
    "import re\n",
    "\n",
    "def extract_function_names(file_path):\n",
    "    with open(file_path, 'r') as file:\n",
    "        code = file.read()\n",
    "        function_pattern = r\"def\\s+([a-zA-Z_][a-zA-Z0-9_]*)\\s*\\(\"\n",
    "        match = re.search(function_pattern, code)\n",
    "        if match:\n",
    "            return match.group(1)\n",
    "        else:\n",
    "            return None\n",
    "\n",
    "file_path = 'codedef.txt'  # Replace this with your file path\n",
    "function_name = extract_function_names(file_path)\n",
    "print(function_name)\n"
   ]
  },
  {
   "cell_type": "code",
   "execution_count": 2,
   "metadata": {},
   "outputs": [
    {
     "name": "stdout",
     "output_type": "stream",
     "text": [
      "Bu kod içinde fonksiyon var mı? True\n"
     ]
    }
   ],
   "source": [
    "import ast\n",
    "\n",
    "def check_for_functions(code):\n",
    "    try:\n",
    "        parsed = ast.parse(code)\n",
    "        for node in ast.walk(parsed):\n",
    "            if isinstance(node, ast.FunctionDef):\n",
    "                return True  # Eğer fonksiyon bulursa True döner\n",
    "        return False  # Eğer fonksiyon bulamazsa False döner\n",
    "    except SyntaxError:\n",
    "        return False  # Geçersiz sözdizimi hatası varsa da False döner\n",
    "\n",
    "# Örnek bir kod\n",
    "sample_code = \"\"\"\n",
    "\n",
    "    print(\"Hello, world!\")\n",
    "\n",
    "x = 5\n",
    "\"\"\"\n",
    "\n",
    "result = check_for_functions(sample_code)\n",
    "print(result)\n"
   ]
  }
 ],
 "metadata": {
  "kernelspec": {
   "display_name": "Python 3",
   "language": "python",
   "name": "python3"
  },
  "language_info": {
   "codemirror_mode": {
    "name": "ipython",
    "version": 3
   },
   "file_extension": ".py",
   "mimetype": "text/x-python",
   "name": "python",
   "nbconvert_exporter": "python",
   "pygments_lexer": "ipython3",
   "version": "3.11.3"
  },
  "orig_nbformat": 4
 },
 "nbformat": 4,
 "nbformat_minor": 2
}
