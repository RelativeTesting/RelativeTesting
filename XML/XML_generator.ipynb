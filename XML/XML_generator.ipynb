{
 "cells": [
  {
   "cell_type": "code",
   "execution_count": 3,
   "metadata": {},
   "outputs": [],
   "source": [
    "import xml.etree.ElementTree as ET\n",
    "import xml.dom.minidom\n",
    "tree = ET.parse('template.xml')\n",
    "root = tree.getroot()\n",
    "# test_cases = [\n",
    "#     {\"input\": \"1 2 3\", \"expected\": \"Value of a: 1 Value of b: 2 Value of c: 3 \"},\n",
    "#     {\"input\": \"2 4 6\", \"expected\": \"Value of a: 2 Value of b: 4 Value of c: 6 \"},\n",
    "#     {\"input\": \"1 5 7\", \"expected\": \"Value of a: 1 Value of b: 5 Value of c: 7 \"},\n",
    "#     {\"input\": \"5 8 10\", \"expected\": \"Value of a: 5 Value of b: 8 Value of c: 10 \"},\n",
    "# ]\n",
    "\n",
    "test_cases = [\n",
    "    {\"input\": \"1\\n2\\n3\\n\", \"expected\": \"Value of a: 1\\nValue of b: 2\\nValue of c: 3\"},\n",
    "    {\"input\": \"2\\n4\\n6\\n\", \"expected\": \"Value of a: 2\\nValue of b: 4\\nValue of c: 6\"},\n",
    "    {\"input\": \"3\\n5\\n7\\n\", \"expected\": \"Value of a: 3\\nValue of b: 5\\nValue of c: 7 \"},\n",
    "    {\"input\": \"0\\n-1\\n-5\\n\", \"expected\": \"Value of a: 0\\nValue of b: -1\\nValue of c: -5 \"}\n",
    "]\n",
    "\n",
    "xml_str = xml.dom.minidom.parseString(ET.tostring(root)).toprettyxml()\n",
    "with open('prev.xml', 'w') as xml_file:\n",
    "    xml_file.write(xml_str)\n",
    "\n",
    "\n",
    "testcases = ET.SubElement(root.find(\"question\"), \"testcases\")\n",
    "for test_case in test_cases:\n",
    "        testcase = ET.SubElement(testcases, \"testcase\", testtype=\"0\",useasexample=\"0\", hiderestiffail=\"0\" ,mark=\"1.0000000\")\n",
    "        \n",
    "        # testcode = ET.SubElement(testcase, \"testcode\")\n",
    "        # test_text = ET.SubElement(testcode, \"text\")\n",
    "        # test_text.text= test_case[\"input\"]\n",
    "\n",
    "        stdin=ET.SubElement(testcase, \"stdin\")\n",
    "        stdin_text=ET.SubElement(stdin, \"text\")\n",
    "        stdin_text.text= test_case[\"input\"]\n",
    "\n",
    "        expected = ET.SubElement(testcase, \"expected\")\n",
    "        ex_text = ET.SubElement(expected, \"text\")\n",
    "        ex_text.text= test_case[\"expected\"]\n",
    "\n",
    "\n",
    "        extra=ET.SubElement(testcase, \"extra\")\n",
    "        extra_text = ET.SubElement(extra, \"text\")\n",
    "        extra_text.text =\"\"\n",
    "\n",
    "        display=ET.SubElement(testcase, \"display\")\n",
    "        disp_text = ET.SubElement(display, \"text\")\n",
    "        disp_text.text=\"SHOW\"\n",
    "xml_str = xml.dom.minidom.parseString(ET.tostring(root)).toprettyxml()\n",
    "with open('updated_file.xml', 'w') as xml_file:\n",
    "    xml_file.write(xml_str)"
   ]
  }
 ],
 "metadata": {
  "kernelspec": {
   "display_name": "Python 3",
   "language": "python",
   "name": "python3"
  },
  "language_info": {
   "codemirror_mode": {
    "name": "ipython",
    "version": 3
   },
   "file_extension": ".py",
   "mimetype": "text/x-python",
   "name": "python",
   "nbconvert_exporter": "python",
   "pygments_lexer": "ipython3",
   "version": "3.11.3"
  }
 },
 "nbformat": 4,
 "nbformat_minor": 2
}
